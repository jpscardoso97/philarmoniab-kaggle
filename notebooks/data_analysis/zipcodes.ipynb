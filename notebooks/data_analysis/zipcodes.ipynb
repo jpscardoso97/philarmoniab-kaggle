{
 "cells": [
  {
   "cell_type": "code",
   "execution_count": 41,
   "metadata": {},
   "outputs": [],
   "source": [
    "import pandas as pd\n",
    "\n",
    "zipcodes = pd.read_csv('../../data/zipcodes.csv')\n",
    "accounts = pd.read_csv('../../data/account.csv')\n",
    "train = pd.read_csv('../../data/train.csv')\n",
    "test = pd.read_csv('../../data/test.csv')"
   ]
  },
  {
   "cell_type": "code",
   "execution_count": 42,
   "metadata": {},
   "outputs": [
    {
     "data": {
      "text/html": [
       "<div>\n",
       "<style scoped>\n",
       "    .dataframe tbody tr th:only-of-type {\n",
       "        vertical-align: middle;\n",
       "    }\n",
       "\n",
       "    .dataframe tbody tr th {\n",
       "        vertical-align: top;\n",
       "    }\n",
       "\n",
       "    .dataframe thead th {\n",
       "        text-align: right;\n",
       "    }\n",
       "</style>\n",
       "<table border=\"1\" class=\"dataframe\">\n",
       "  <thead>\n",
       "    <tr style=\"text-align: right;\">\n",
       "      <th></th>\n",
       "      <th>billing.zip.code</th>\n",
       "      <th>account.id</th>\n",
       "      <th>TotalWages</th>\n",
       "    </tr>\n",
       "  </thead>\n",
       "  <tbody>\n",
       "    <tr>\n",
       "      <th>2</th>\n",
       "      <td>94597</td>\n",
       "      <td>001i000000NuQGN</td>\n",
       "      <td>6.592431e+08</td>\n",
       "    </tr>\n",
       "    <tr>\n",
       "      <th>3</th>\n",
       "      <td>94005</td>\n",
       "      <td>001i000000NuPfL</td>\n",
       "      <td>1.997331e+08</td>\n",
       "    </tr>\n",
       "    <tr>\n",
       "      <th>4</th>\n",
       "      <td>94610</td>\n",
       "      <td>001i000000NuQkP</td>\n",
       "      <td>1.004840e+09</td>\n",
       "    </tr>\n",
       "    <tr>\n",
       "      <th>6</th>\n",
       "      <td>94117</td>\n",
       "      <td>001i000000NuOwD</td>\n",
       "      <td>1.499767e+09</td>\n",
       "    </tr>\n",
       "    <tr>\n",
       "      <th>7</th>\n",
       "      <td>94132</td>\n",
       "      <td>001i000000NuQ2O</td>\n",
       "      <td>5.551385e+08</td>\n",
       "    </tr>\n",
       "  </tbody>\n",
       "</table>\n",
       "</div>"
      ],
      "text/plain": [
       "  billing.zip.code       account.id    TotalWages\n",
       "2            94597  001i000000NuQGN  6.592431e+08\n",
       "3            94005  001i000000NuPfL  1.997331e+08\n",
       "4            94610  001i000000NuQkP  1.004840e+09\n",
       "6            94117  001i000000NuOwD  1.499767e+09\n",
       "7            94132  001i000000NuQ2O  5.551385e+08"
      ]
     },
     "metadata": {},
     "output_type": "display_data"
    },
    {
     "data": {
      "text/plain": [
       "(5533, 3)"
      ]
     },
     "metadata": {},
     "output_type": "display_data"
    }
   ],
   "source": [
    "# Analyze missing data in zipcodes\n",
    "zipcodes.isnull().sum()\n",
    "zipcodes.dropna(inplace=True)\n",
    "\n",
    "zipcodes['Zipcode'] = zipcodes['Zipcode'].astype(str)\n",
    "\n",
    "allzipcodes = zipcodes['Zipcode']\n",
    "account_zipcodes = accounts['billing.zip.code']\n",
    "\n",
    "# how many zipcodes are in accounts but not in zipcodes\n",
    "len(set(account_zipcodes) - set(allzipcodes))\n",
    "\n",
    "# Merge train and accounts on account number\n",
    "train = pd.merge(train, accounts, on='account.id', how='left')\n",
    "\n",
    "# Merge train and zipcodes on zipcode\n",
    "train = pd.merge(train, zipcodes, left_on='billing.zip.code', right_on='Zipcode', how='left')\n",
    "train = train[['billing.zip.code', 'account.id', 'TotalWages']]\n",
    "train.dropna(inplace=True)\n",
    "\n",
    "display(train.head())\n",
    "display(train.shape)\n"
   ]
  }
 ],
 "metadata": {
  "kernelspec": {
   "display_name": "base",
   "language": "python",
   "name": "python3"
  },
  "language_info": {
   "codemirror_mode": {
    "name": "ipython",
    "version": 3
   },
   "file_extension": ".py",
   "mimetype": "text/x-python",
   "name": "python",
   "nbconvert_exporter": "python",
   "pygments_lexer": "ipython3",
   "version": "3.11.6"
  }
 },
 "nbformat": 4,
 "nbformat_minor": 2
}
