{
 "cells": [
  {
   "cell_type": "code",
   "execution_count": 5,
   "metadata": {},
   "outputs": [],
   "source": [
    "import pandas as pd\n",
    "\n",
    "subscriptions = pd.read_csv('../../data/subscriptions.csv')"
   ]
  },
  {
   "cell_type": "code",
   "execution_count": 6,
   "metadata": {},
   "outputs": [
    {
     "data": {
      "text/plain": [
       "account.id              0\n",
       "season                  0\n",
       "package                 6\n",
       "no.seats                0\n",
       "location                6\n",
       "section              4543\n",
       "price.level          3534\n",
       "subscription_tier       0\n",
       "multiple.subs           0\n",
       "dtype: int64"
      ]
     },
     "metadata": {},
     "output_type": "display_data"
    },
    {
     "data": {
      "text/plain": [
       "package\n",
       "Full            21004\n",
       "Quartet          3740\n",
       "Quartet CC       1385\n",
       "Trio             1288\n",
       "Trio B            431\n",
       "Trio A            364\n",
       "Quartet B         174\n",
       "Quartet A         157\n",
       "CYO                66\n",
       "Full upgrade       12\n",
       "Name: count, dtype: int64"
      ]
     },
     "metadata": {},
     "output_type": "display_data"
    },
    {
     "data": {
      "text/plain": [
       "season\n",
       "1998-1999    1943\n",
       "1996-1997    1871\n",
       "1994-1995    1842\n",
       "1997-1998    1788\n",
       "1995-1996    1774\n",
       "2000-2001    1704\n",
       "1993-1994    1624\n",
       "1999-2000    1607\n",
       "2001-2002    1457\n",
       "2003-2004    1217\n",
       "2002-2003    1199\n",
       "2006-2007    1107\n",
       "2004-2005    1094\n",
       "2005-2006    1090\n",
       "2010-2011    1075\n",
       "2007-2008    1074\n",
       "2009-2010    1065\n",
       "2012-2013    1058\n",
       "2008-2009    1042\n",
       "2011-2012    1014\n",
       "2013-2014     982\n",
       "Name: count, dtype: int64"
      ]
     },
     "metadata": {},
     "output_type": "display_data"
    },
    {
     "name": "stdout",
     "output_type": "stream",
     "text": [
      "Price level distribution:\n"
     ]
    },
    {
     "data": {
      "text/plain": [
       "price.level\n",
       "2.0    11722\n",
       "1.0     4859\n",
       "3.0     3827\n",
       "4.0     3477\n",
       "0.0     1208\n",
       "Name: count, dtype: int64"
      ]
     },
     "metadata": {},
     "output_type": "display_data"
    },
    {
     "name": "stdout",
     "output_type": "stream",
     "text": [
      "Subscription Tier distribution:\n"
     ]
    },
    {
     "data": {
      "text/plain": [
       "subscription_tier\n",
       "2.0     13333\n",
       "1.0     11331\n",
       "0.5      2776\n",
       "4.0       493\n",
       "3.0       484\n",
       "1.5       141\n",
       "5.0        34\n",
       "2.5         9\n",
       "6.0         7\n",
       "8.0         3\n",
       "12.0        3\n",
       "3.5         3\n",
       "13.0        2\n",
       "10.0        2\n",
       "9.0         1\n",
       "26.0        1\n",
       "15.0        1\n",
       "4.5         1\n",
       "11.0        1\n",
       "7.0         1\n",
       "Name: count, dtype: int64"
      ]
     },
     "metadata": {},
     "output_type": "display_data"
    },
    {
     "name": "stdout",
     "output_type": "stream",
     "text": [
      "Sections distribution:\n"
     ]
    },
    {
     "data": {
      "text/plain": [
       "section\n",
       "Orchestra            13247\n",
       "Balcony Front         2710\n",
       "Premium Orchestra     2487\n",
       "Balcony               1993\n",
       "Dress Circle          1225\n",
       "Balcony Rear          1004\n",
       "Orchestra Front        645\n",
       "Box                    435\n",
       "Orchestra Rear         160\n",
       "Santa Rosa             106\n",
       "Gallery                 47\n",
       "Boxes House Right       13\n",
       "Boxes House Left        11\n",
       "Floor                    1\n",
       "Name: count, dtype: int64"
      ]
     },
     "metadata": {},
     "output_type": "display_data"
    },
    {
     "name": "stdout",
     "output_type": "stream",
     "text": [
      "New numerical sections distribution:\n"
     ]
    },
    {
     "data": {
      "text/plain": [
       "section\n",
       "11.0    13247\n",
       "7.0      2710\n",
       "13.0     2487\n",
       "2.0      1993\n",
       "8.0      1225\n",
       "1.0      1004\n",
       "12.0      645\n",
       "9.0       160\n",
       "10.0      106\n",
       "5.0        47\n",
       "3.0        13\n",
       "4.0        11\n",
       "6.0         1\n",
       "Name: count, dtype: int64"
      ]
     },
     "metadata": {},
     "output_type": "display_data"
    },
    {
     "data": {
      "text/plain": [
       "0    11.0\n",
       "Name: section, dtype: float64"
      ]
     },
     "execution_count": 6,
     "metadata": {},
     "output_type": "execute_result"
    }
   ],
   "source": [
    "display(subscriptions.isnull().sum())\n",
    "\n",
    "display(subscriptions['package'].value_counts())\n",
    "\n",
    "display(subscriptions['season'].value_counts())\n",
    "\n",
    "# Check the different values of the 'price.level' column and their distribution\n",
    "print(\"Price level distribution:\")\n",
    "display(subscriptions['price.level'].value_counts())\n",
    "\n",
    "# Check the different values of the 'subscription_tier' column and their distribution\n",
    "print(\"Subscription Tier distribution:\")\n",
    "display(subscriptions['subscription_tier'].value_counts())\n",
    "\n",
    "# Check the different values of the 'section' column and their distribution\n",
    "print(\"Sections distribution:\")\n",
    "display(subscriptions['section'].value_counts())\n",
    "\n",
    "###\n",
    "# Balcony Rear (Cheapest) - 1\n",
    "# Balcony - 2\n",
    "# Boxes House Right - 3\n",
    "# Boxes House Left - 4\n",
    "# Gallery - 5\n",
    "# Floor - 6\n",
    "# Balcony Front - 7\n",
    "# Dress Circle - 8\n",
    "# Orchestra Rear - 9\n",
    "# Santa Rosa - 10\n",
    "# Orchestra - 11\n",
    "# Orchestra Front - 12\n",
    "# Premium Orchestra - 13\n",
    "# Box (Most Expensive) - 14\n",
    "###\n",
    "# Map subscriptions section column to the values above\n",
    "sections_map = {\n",
    "    'Balcony Rear': 1, \n",
    "    'Balcony': 2,\n",
    "    'Boxes House Right': 3, \n",
    "    'Boxes House Left': 4, \n",
    "    'Gallery': 5, \n",
    "    'Floor': 6, \n",
    "    'Balcony Front': 7, \n",
    "    'Dress Circle': 8, \n",
    "    'Orchestra Rear': 9, \n",
    "    'Santa Rosa': 10, \n",
    "    'Orchestra': 11, \n",
    "    'Orchestra Front': 12, \n",
    "    'Premium Orchestra': 13, \n",
    "    'Box (Most Expensive)': 14}\n",
    "\n",
    "subscriptions['section'] = subscriptions['section'].map(sections_map)\n",
    "\n",
    "print(\"New numerical sections distribution:\")\n",
    "display(subscriptions['section'].value_counts())\n",
    "subscriptions['section'].mode()"
   ]
  }
 ],
 "metadata": {
  "kernelspec": {
   "display_name": "base",
   "language": "python",
   "name": "python3"
  },
  "language_info": {
   "codemirror_mode": {
    "name": "ipython",
    "version": 3
   },
   "file_extension": ".py",
   "mimetype": "text/x-python",
   "name": "python",
   "nbconvert_exporter": "python",
   "pygments_lexer": "ipython3",
   "version": "3.11.6"
  }
 },
 "nbformat": 4,
 "nbformat_minor": 2
}
