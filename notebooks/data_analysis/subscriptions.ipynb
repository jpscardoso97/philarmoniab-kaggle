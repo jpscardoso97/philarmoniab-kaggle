{
 "cells": [
  {
   "cell_type": "code",
   "execution_count": 7,
   "metadata": {},
   "outputs": [],
   "source": [
    "import pandas as pd\n",
    "\n",
    "subscriptions = pd.read_csv('../../data/subscriptions.csv')"
   ]
  },
  {
   "cell_type": "code",
   "execution_count": 8,
   "metadata": {},
   "outputs": [
    {
     "name": "stdout",
     "output_type": "stream",
     "text": [
      "Price level distribution:\n"
     ]
    },
    {
     "data": {
      "text/plain": [
       "price.level\n",
       "2.0    11722\n",
       "1.0     4859\n",
       "3.0     3827\n",
       "4.0     3477\n",
       "0.0     1208\n",
       "Name: count, dtype: int64"
      ]
     },
     "metadata": {},
     "output_type": "display_data"
    },
    {
     "name": "stdout",
     "output_type": "stream",
     "text": [
      "Subscription Tier distribution:\n"
     ]
    },
    {
     "data": {
      "text/plain": [
       "subscription_tier\n",
       "2.0     13333\n",
       "1.0     11331\n",
       "0.5      2776\n",
       "4.0       493\n",
       "3.0       484\n",
       "1.5       141\n",
       "5.0        34\n",
       "2.5         9\n",
       "6.0         7\n",
       "8.0         3\n",
       "12.0        3\n",
       "3.5         3\n",
       "13.0        2\n",
       "10.0        2\n",
       "9.0         1\n",
       "26.0        1\n",
       "15.0        1\n",
       "4.5         1\n",
       "11.0        1\n",
       "7.0         1\n",
       "Name: count, dtype: int64"
      ]
     },
     "metadata": {},
     "output_type": "display_data"
    },
    {
     "name": "stdout",
     "output_type": "stream",
     "text": [
      "Sections distribution:\n"
     ]
    },
    {
     "data": {
      "text/plain": [
       "section\n",
       "Orchestra            13247\n",
       "Balcony Front         2710\n",
       "Premium Orchestra     2487\n",
       "Balcony               1993\n",
       "Dress Circle          1225\n",
       "Balcony Rear          1004\n",
       "Orchestra Front        645\n",
       "Box                    435\n",
       "Orchestra Rear         160\n",
       "Santa Rosa             106\n",
       "Gallery                 47\n",
       "Boxes House Right       13\n",
       "Boxes House Left        11\n",
       "Floor                    1\n",
       "Name: count, dtype: int64"
      ]
     },
     "metadata": {},
     "output_type": "display_data"
    },
    {
     "name": "stdout",
     "output_type": "stream",
     "text": [
      "New numerical sections distribution:\n"
     ]
    },
    {
     "data": {
      "text/plain": [
       "section\n",
       "11.0    13247\n",
       "7.0      2710\n",
       "13.0     2487\n",
       "2.0      1993\n",
       "8.0      1225\n",
       "1.0      1004\n",
       "12.0      645\n",
       "9.0       160\n",
       "10.0      106\n",
       "5.0        47\n",
       "3.0        13\n",
       "4.0        11\n",
       "6.0         1\n",
       "Name: count, dtype: int64"
      ]
     },
     "metadata": {},
     "output_type": "display_data"
    }
   ],
   "source": [
    "# Check the different values of the 'price.level' column and their distribution\n",
    "print(\"Price level distribution:\")\n",
    "display(subscriptions['price.level'].value_counts())\n",
    "\n",
    "# Check the different values of the 'subscription_tier' column and their distribution\n",
    "print(\"Subscription Tier distribution:\")\n",
    "display(subscriptions['subscription_tier'].value_counts())\n",
    "\n",
    "# Check the different values of the 'section' column and their distribution\n",
    "print(\"Sections distribution:\")\n",
    "display(subscriptions['section'].value_counts())\n",
    "\n",
    "###\n",
    "# Balcony Rear (Cheapest) - 1\n",
    "# Balcony - 2\n",
    "# Boxes House Right - 3\n",
    "# Boxes House Left - 4\n",
    "# Gallery - 5\n",
    "# Floor - 6\n",
    "# Balcony Front - 7\n",
    "# Dress Circle - 8\n",
    "# Orchestra Rear - 9\n",
    "# Santa Rosa - 10\n",
    "# Orchestra - 11\n",
    "# Orchestra Front - 12\n",
    "# Premium Orchestra - 13\n",
    "# Box (Most Expensive) - 14\n",
    "###\n",
    "# Map subscriptions section column to the values above\n",
    "sections_map = {\n",
    "    'Balcony Rear': 1, \n",
    "    'Balcony': 2,\n",
    "    'Boxes House Right': 3, \n",
    "    'Boxes House Left': 4, \n",
    "    'Gallery': 5, \n",
    "    'Floor': 6, \n",
    "    'Balcony Front': 7, \n",
    "    'Dress Circle': 8, \n",
    "    'Orchestra Rear': 9, \n",
    "    'Santa Rosa': 10, \n",
    "    'Orchestra': 11, \n",
    "    'Orchestra Front': 12, \n",
    "    'Premium Orchestra': 13, \n",
    "    'Box (Most Expensive)': 14}\n",
    "\n",
    "subscriptions['section'] = subscriptions['section'].map(sections_map)\n",
    "\n",
    "print(\"New numerical sections distribution:\")\n",
    "display(subscriptions['section'].value_counts())"
   ]
  }
 ],
 "metadata": {
  "kernelspec": {
   "display_name": "base",
   "language": "python",
   "name": "python3"
  },
  "language_info": {
   "codemirror_mode": {
    "name": "ipython",
    "version": 3
   },
   "file_extension": ".py",
   "mimetype": "text/x-python",
   "name": "python",
   "nbconvert_exporter": "python",
   "pygments_lexer": "ipython3",
   "version": "3.11.6"
  }
 },
 "nbformat": 4,
 "nbformat_minor": 2
}
