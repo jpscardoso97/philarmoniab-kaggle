{
 "cells": [
  {
   "cell_type": "code",
   "execution_count": 10,
   "metadata": {},
   "outputs": [
    {
     "name": "stdout",
     "output_type": "stream",
     "text": [
      "Missing tickets data:  account.id             0\n",
      "price.level          208\n",
      "no.seats               0\n",
      "marketing.source    2224\n",
      "season                 0\n",
      "location              44\n",
      "set                   22\n",
      "multiple.tickets       0\n",
      "dtype: int64 out of 2808 \n",
      "\n",
      "Keeping only relevant columns...\n",
      "Dropping rows with missing data...\n",
      "Initial length of tickets:  2808\n",
      "<class 'pandas.core.frame.DataFrame'>\n",
      "Index: 2600 entries, 0 to 2806\n",
      "Data columns (total 4 columns):\n",
      " #   Column       Non-Null Count  Dtype \n",
      "---  ------       --------------  ----- \n",
      " 0   account.id   2600 non-null   object\n",
      " 1   price.level  2600 non-null   int64 \n",
      " 2   no.seats     2600 non-null   int64 \n",
      " 3   season       2600 non-null   object\n",
      "dtypes: int64(2), object(2)\n",
      "memory usage: 101.6+ KB\n",
      "Empty DataFrame\n",
      "Columns: [account.id, price.level, no.seats, season]\n",
      "Index: []\n"
     ]
    }
   ],
   "source": [
    "import pandas as pd\n",
    "from sklearn.preprocessing import LabelEncoder\n",
    "\n",
    "tickets = pd.read_csv('../../data/tickets_all.csv')\n",
    "print(\"Missing tickets data: \", tickets.isnull().sum(), \"out of\", len(tickets), \"\\n\")\n",
    "print(\"Keeping only relevant columns...\")\n",
    "tickets = tickets[['account.id', 'price.level', 'no.seats', 'season']]\n",
    "\n",
    "print(\"Dropping rows with missing data...\")\n",
    "print(\"Initial length of tickets: \", len(tickets))\n",
    "tickets = tickets.dropna()\n",
    "\n",
    "label_encoder = LabelEncoder()\n",
    "tickets['price.level'] = label_encoder.fit_transform(tickets['price.level'])\n",
    "\n",
    "# Analyse the data for cleaninness\n",
    "tickets.info()\n",
    "tickets.describe()\n",
    "\n",
    "print(tickets.loc[tickets['price.level'] == 'Adult'])"
   ]
  }
 ],
 "metadata": {
  "kernelspec": {
   "display_name": "base",
   "language": "python",
   "name": "python3"
  },
  "language_info": {
   "codemirror_mode": {
    "name": "ipython",
    "version": 3
   },
   "file_extension": ".py",
   "mimetype": "text/x-python",
   "name": "python",
   "nbconvert_exporter": "python",
   "pygments_lexer": "ipython3",
   "version": "3.11.6"
  }
 },
 "nbformat": 4,
 "nbformat_minor": 2
}
