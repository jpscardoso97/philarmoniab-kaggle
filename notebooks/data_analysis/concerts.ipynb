{
 "cells": [
  {
   "cell_type": "code",
   "execution_count": 2,
   "metadata": {},
   "outputs": [],
   "source": [
    "import pandas as pd\n",
    "\n",
    "df = pd.read_csv('../../data/train.csv')\n",
    "concerts = pd.read_csv('../../data/concerts.csv')\n",
    "planned_concerts = pd.read_csv('../../data/concerts_2014-15.csv')\n",
    "subscriptions = pd.read_csv('../../data/subscriptions.csv')"
   ]
  },
  {
   "cell_type": "code",
   "execution_count": 3,
   "metadata": {},
   "outputs": [
    {
     "data": {
      "text/plain": [
       "label\n",
       "0    0.051899\n",
       "1    1.704819\n",
       "Name: watched_conductors, dtype: float64"
      ]
     },
     "metadata": {},
     "output_type": "display_data"
    },
    {
     "data": {
      "text/html": [
       "<div>\n",
       "<style scoped>\n",
       "    .dataframe tbody tr th:only-of-type {\n",
       "        vertical-align: middle;\n",
       "    }\n",
       "\n",
       "    .dataframe tbody tr th {\n",
       "        vertical-align: top;\n",
       "    }\n",
       "\n",
       "    .dataframe thead th {\n",
       "        text-align: right;\n",
       "    }\n",
       "</style>\n",
       "<table border=\"1\" class=\"dataframe\">\n",
       "  <thead>\n",
       "    <tr style=\"text-align: right;\">\n",
       "      <th></th>\n",
       "      <th>label</th>\n",
       "      <th>watched_conductors</th>\n",
       "    </tr>\n",
       "  </thead>\n",
       "  <tbody>\n",
       "    <tr>\n",
       "      <th>label</th>\n",
       "      <td>1.000000</td>\n",
       "      <td>0.749874</td>\n",
       "    </tr>\n",
       "    <tr>\n",
       "      <th>watched_conductors</th>\n",
       "      <td>0.749874</td>\n",
       "      <td>1.000000</td>\n",
       "    </tr>\n",
       "  </tbody>\n",
       "</table>\n",
       "</div>"
      ],
      "text/plain": [
       "                       label  watched_conductors\n",
       "label               1.000000            0.749874\n",
       "watched_conductors  0.749874            1.000000"
      ]
     },
     "metadata": {},
     "output_type": "display_data"
    }
   ],
   "source": [
    "subs_by_acc = subscriptions.groupby(['account.id'])\n",
    "\n",
    "subscriptions_by_account = pd.DataFrame({'num_subscriptions':subs_by_acc.size(), \n",
    "                                        'sub_tier': subs_by_acc['subscription_tier'].apply(lambda x: x.mode().iloc[0]),\n",
    "                                        'sub_seasons': subs_by_acc['season'].unique()\n",
    "                                        }).reset_index()\n",
    "\n",
    "# group concerts by season and aggregate list of unique conductors\n",
    "concerts['conductor'] = concerts['who'].apply(lambda x: x.split(',')[0])\n",
    "conductors_by_season = concerts.groupby(['season'])['conductor'].unique().reset_index()\n",
    "\n",
    "# create new column conductors in subscriptions_by_account with all the unique values as a flattened list from conductors_by_season where the season is one of the sub_seasons\n",
    "subscriptions_by_account['conductors'] = subscriptions_by_account['sub_seasons'].apply(lambda x: set([item for sublist in conductors_by_season[conductors_by_season['season'].isin(x)]['conductor'] for item in sublist]))\n",
    "\n",
    "# transform \"who\" column in planned_concerts to \"conductors\" column with just the name of the conductors\n",
    "planned_concerts['conductors'] = planned_concerts['who'].apply(lambda x: x.split(',')[0])\n",
    "#display(planned_concerts.head())\n",
    "# aggregate list of unique conductors in next season\n",
    "planned_conductors = planned_concerts['conductors'].unique()\n",
    "subscriptions_by_account['watched_conductors'] = subscriptions_by_account['conductors'].apply(lambda x: len(x.intersection(planned_conductors)))\n",
    "#display(planned_conductors)\n",
    "#display(conductors_by_season)           \n",
    "#display(subscriptions_by_account.iloc[0]['conductors'])\n",
    "#display(subscriptions_by_account['watched_conductors'].value_counts())\n",
    "#display(subscriptions_by_account[subscriptions_by_account['conductors'].apply(lambda x: len(x)) == 8])\n",
    "subscriptions_by_account.drop(['sub_seasons', 'conductors'], axis=1, inplace=True)\n",
    "\n",
    "\n",
    "df['watched_conductors'] = df['account.id'].map(subscriptions_by_account.set_index('account.id')['watched_conductors'])\n",
    "df['watched_conductors'] = df['watched_conductors'].fillna(0)\n",
    "\n",
    "# plot the relation between watched conductors and label\n",
    "display(df.groupby(['label'])['watched_conductors'].mean())\n",
    "\n",
    "# measure correlation between watched conductors and label\n",
    "display(df[['label', 'watched_conductors']].corr())"
   ]
  }
 ],
 "metadata": {
  "kernelspec": {
   "display_name": "base",
   "language": "python",
   "name": "python3"
  },
  "language_info": {
   "codemirror_mode": {
    "name": "ipython",
    "version": 3
   },
   "file_extension": ".py",
   "mimetype": "text/x-python",
   "name": "python",
   "nbconvert_exporter": "python",
   "pygments_lexer": "ipython3",
   "version": "3.11.6"
  }
 },
 "nbformat": 4,
 "nbformat_minor": 2
}
